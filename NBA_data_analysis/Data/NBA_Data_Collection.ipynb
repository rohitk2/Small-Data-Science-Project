{
 "cells": [
  {
   "cell_type": "code",
   "execution_count": 1,
   "metadata": {},
   "outputs": [],
   "source": [
    "import pandas as pd\n",
    "from nba_api.stats.static import teams\n",
    "from nba_api.stats.endpoints import teamdashboardbyyearoveryear"
   ]
  },
  {
   "cell_type": "markdown",
   "metadata": {},
   "source": [
    "Gather all the names and id's of every team.\n",
    "For more information on how to use this API to grab NBA data go to:\n",
    "https://github.com/swar/nba_api"
   ]
  },
  {
   "cell_type": "code",
   "execution_count": 2,
   "metadata": {},
   "outputs": [],
   "source": [
    "team_dict = teams.get_teams()\n",
    "team_df = pd.DataFrame.from_dict(team_dict)\n",
    "team_name_id = list(zip(team_df['full_name'], team_df['id']))"
   ]
  },
  {
   "cell_type": "markdown",
   "metadata": {},
   "source": [
    "Gather the data for each team one-by-one. Sorry, the swars API for some reason kept timing out when I tried to gather the information in parallel. Anways, even though the runtime is garbage on this, I decided to move on.\n",
    "\n",
    "I put them each in a list and later concatenated them all into 1 dataframe and put that into a CSV."
   ]
  },
  {
   "cell_type": "code",
   "execution_count": null,
   "metadata": {},
   "outputs": [],
   "source": [
    "df_list = []\n",
    "for (team, team_id) in team_name_id :\n",
    "    cum_stats = teamdashboardbyyearoveryear.TeamDashboardByYearOverYear(team_id = team_id)\n",
    "    df = cum_stats.get_data_frames()[1]\n",
    "    df = df.drop(columns=['GROUP_SET', 'CFPARAMS', 'CFID'])\n",
    "    df['Team'] = team\n",
    "    df_list.append(df)"
   ]
  },
  {
   "cell_type": "code",
   "execution_count": 10,
   "metadata": {},
   "outputs": [],
   "source": [
    "total_df = pd.concat(df_list)\n",
    "total_df.to_csv('NBA_dataset.csv')"
   ]
  },
  {
   "cell_type": "code",
   "execution_count": 11,
   "metadata": {},
   "outputs": [],
   "source": [
    "total_df.to_csv('NBA_dataset.csv')"
   ]
  }
 ],
 "metadata": {
  "kernelspec": {
   "display_name": "Python 3",
   "language": "python",
   "name": "python3"
  },
  "language_info": {
   "codemirror_mode": {
    "name": "ipython",
    "version": 3
   },
   "file_extension": ".py",
   "mimetype": "text/x-python",
   "name": "python",
   "nbconvert_exporter": "python",
   "pygments_lexer": "ipython3",
   "version": "3.8.5"
  }
 },
 "nbformat": 4,
 "nbformat_minor": 4
}
